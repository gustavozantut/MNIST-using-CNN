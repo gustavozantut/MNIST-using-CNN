{
 "cells": [
  {
   "cell_type": "markdown",
   "metadata": {
    "colab_type": "text",
    "id": "GXb76UDZruyu"
   },
   "source": [
    "# TensorFlow"
   ]
  },
  {
   "cell_type": "markdown",
   "metadata": {
    "colab_type": "text",
    "id": "UXogNbFMruyw"
   },
   "source": [
    "## Imports"
   ]
  },
  {
   "cell_type": "code",
   "execution_count": 1,
   "metadata": {
    "colab": {},
    "colab_type": "code",
    "id": "_lypWPKKruyx"
   },
   "outputs": [],
   "source": [
    "import numpy as np\n",
    "from sklearn.model_selection import train_test_split\n",
    "from sklearn.metrics import classification_report, accuracy_score\n",
    "\n",
    "import numpy as np\n",
    "from sklearn.model_selection import train_test_split\n",
    "import tensorflow as tf\n",
    "from tensorflow.keras import layers, models"
   ]
  },
  {
   "cell_type": "markdown",
   "metadata": {
    "colab_type": "text",
    "id": "nujWEEX2ruy3"
   },
   "source": [
    "## MNIST Dataset"
   ]
  },
  {
   "cell_type": "code",
   "execution_count": 2,
   "metadata": {
    "colab": {},
    "colab_type": "code",
    "id": "9n6dztkor1LP"
   },
   "outputs": [],
   "source": [
    "#from google.colab import drive\n",
    "#drive.mount('/content/drive')"
   ]
  },
  {
   "cell_type": "code",
   "execution_count": 3,
   "metadata": {
    "colab": {
     "base_uri": "https://localhost:8080/",
     "height": 125
    },
    "colab_type": "code",
    "id": "q-fKkzaYr95m",
    "outputId": "ef78140d-76ed-49a7-97e0-daaad333458f"
   },
   "outputs": [
    {
     "name": "stdout",
     "output_type": "stream",
     "text": [
      "Requirement already satisfied: Pillow in g:\\anaconda\\lib\\site-packages (7.0.0)\n"
     ]
    }
   ],
   "source": [
    "#!pip install python-mnist\n",
    "#!pip install Pillow"
   ]
  },
  {
   "cell_type": "code",
   "execution_count": 7,
   "metadata": {
    "colab": {},
    "colab_type": "code",
    "id": "YChdoNEgruy4"
   },
   "outputs": [],
   "source": [
    "from mnist import MNIST\n",
    "from PIL import Image\n",
    "mndata = MNIST('C:\\\\Users\\\\Gustavo\\\\Py Projects\\\\classificacao\\\\knn\\\\mnist_data')\n",
    "mndata.gz = True\n",
    "images, labels_mndata = mndata.load_training()"
   ]
  },
  {
   "cell_type": "code",
   "execution_count": 8,
   "metadata": {
    "colab": {
     "base_uri": "https://localhost:8080/",
     "height": 217
    },
    "colab_type": "code",
    "id": "vi-eB-nlruy7",
    "outputId": "f3d1b88f-b48c-4f6e-d7b8-ee10f2531da3"
   },
   "outputs": [
    {
     "data": {
      "image/png": "[encoded data removed]",
      "text/plain": [
       "<PIL.Image.Image image mode=L size=200x200 at 0x19A009C2388>"
      ]
     },
     "execution_count": 8,
     "metadata": {},
     "output_type": "execute_result"
    }
   ],
   "source": [
    "img = Image.fromarray(np.array(images[0]).reshape(28,28).astype('uint8'), 'L')\n",
    "img.resize((200,200))"
   ]
  },
  {
   "cell_type": "markdown",
   "metadata": {
    "colab_type": "text",
    "id": "KG4I7SbCruy-"
   },
   "source": [
    "### Create Train and Test Sets"
   ]
  },
  {
   "cell_type": "code",
   "execution_count": 43,
   "metadata": {
    "colab": {},
    "colab_type": "code",
    "id": "n_W-uhwYruy_"
   },
   "outputs": [],
   "source": [
    "IMG_SIZE = 28\n",
    "x = np.array(images).reshape(-1,IMG_SIZE,IMG_SIZE,1).astype(float)/255.0"
   ]
  },
  {
   "cell_type": "code",
   "execution_count": 44,
   "metadata": {
    "colab": {},
    "colab_type": "code",
    "id": "ehhOU55-ruzB"
   },
   "outputs": [],
   "source": [
    "y = np.array(labels_mndata)"
   ]
  },
  {
   "cell_type": "code",
   "execution_count": 45,
   "metadata": {
    "colab": {},
    "colab_type": "code",
    "id": "Ir3YWD5xruzE"
   },
   "outputs": [],
   "source": [
    "X_train, X_test, y_train, y_test = train_test_split(x, y, test_size=0.25, random_state=42)"
   ]
  },
  {
   "cell_type": "markdown",
   "metadata": {
    "colab_type": "text",
    "id": "yHB3XZdQruzN"
   },
   "source": [
    "### Create Model"
   ]
  },
  {
   "cell_type": "markdown",
   "metadata": {
    "colab_type": "text",
    "id": "bbBOQ3GhAh4D"
   },
   "source": [
    "#### Convolutional Layers"
   ]
  },
  {
   "cell_type": "code",
   "execution_count": 58,
   "metadata": {
    "colab": {},
    "colab_type": "code",
    "id": "973qa-lNruzN"
   },
   "outputs": [],
   "source": [
    "model = models.Sequential()\n",
    "model.add(layers.Conv2D(32, (3, 3), activation='relu', input_shape=(IMG_SIZE, IMG_SIZE, 1)))\n",
    "model.add(layers.MaxPooling2D((2, 2)))\n",
    "model.add(layers.Conv2D(64, (3, 3), activation='relu'))\n",
    "model.add(layers.MaxPooling2D((2, 2)))\n",
    "model.add(layers.Conv2D(128, (3, 3), activation='relu'))\n",
    "model.add(layers.Conv2D(64, (3, 3), activation='relu'))"
   ]
  },
  {
   "cell_type": "code",
   "execution_count": 59,
   "metadata": {
    "colab": {
     "base_uri": "https://localhost:8080/",
     "height": 333
    },
    "colab_type": "code",
    "id": "NIFZH9-LruzQ",
    "outputId": "be181501-1a54-443d-8ae6-c15c71263da1"
   },
   "outputs": [
    {
     "name": "stdout",
     "output_type": "stream",
     "text": [
      "Model: \"sequential_6\"\n",
      "_________________________________________________________________\n",
      "Layer (type)                 Output Shape              Param #   \n",
      "=================================================================\n",
      "conv2d_20 (Conv2D)           (None, 26, 26, 32)        320       \n",
      "_________________________________________________________________\n",
      "max_pooling2d_13 (MaxPooling (None, 13, 13, 32)        0         \n",
      "_________________________________________________________________\n",
      "conv2d_21 (Conv2D)           (None, 11, 11, 64)        18496     \n",
      "_________________________________________________________________\n",
      "max_pooling2d_14 (MaxPooling (None, 5, 5, 64)          0         \n",
      "_________________________________________________________________\n",
      "conv2d_22 (Conv2D)           (None, 3, 3, 128)         73856     \n",
      "_________________________________________________________________\n",
      "conv2d_23 (Conv2D)           (None, 1, 1, 64)          73792     \n",
      "=================================================================\n",
      "Total params: 166,464\n",
      "Trainable params: 166,464\n",
      "Non-trainable params: 0\n",
      "_________________________________________________________________\n"
     ]
    }
   ],
   "source": [
    "model.summary()"
   ]
  },
  {
   "cell_type": "markdown",
   "metadata": {
    "colab_type": "text",
    "id": "AzvfBUXQAoL9"
   },
   "source": [
    "#### Classification Layer"
   ]
  },
  {
   "cell_type": "code",
   "execution_count": 60,
   "metadata": {
    "colab": {},
    "colab_type": "code",
    "id": "RikIb5YaAxxK"
   },
   "outputs": [],
   "source": [
    "model.add(layers.Flatten())\n",
    "model.add(layers.Dense(64, activation='relu'))\n",
    "model.add(layers.Dense(64, activation='relu'))\n",
    "model.add(layers.Dense(10))"
   ]
  },
  {
   "cell_type": "code",
   "execution_count": 61,
   "metadata": {
    "colab": {
     "base_uri": "https://localhost:8080/",
     "height": 438
    },
    "colab_type": "code",
    "id": "OOnqvqyyAzJW",
    "outputId": "65e9312f-e9db-443b-95e7-4acfffe31f63"
   },
   "outputs": [
    {
     "name": "stdout",
     "output_type": "stream",
     "text": [
      "Model: \"sequential_6\"\n",
      "_________________________________________________________________\n",
      "Layer (type)                 Output Shape              Param #   \n",
      "=================================================================\n",
      "conv2d_20 (Conv2D)           (None, 26, 26, 32)        320       \n",
      "_________________________________________________________________\n",
      "max_pooling2d_13 (MaxPooling (None, 13, 13, 32)        0         \n",
      "_________________________________________________________________\n",
      "conv2d_21 (Conv2D)           (None, 11, 11, 64)        18496     \n",
      "_________________________________________________________________\n",
      "max_pooling2d_14 (MaxPooling (None, 5, 5, 64)          0         \n",
      "_________________________________________________________________\n",
      "conv2d_22 (Conv2D)           (None, 3, 3, 128)         73856     \n",
      "_________________________________________________________________\n",
      "conv2d_23 (Conv2D)           (None, 1, 1, 64)          73792     \n",
      "_________________________________________________________________\n",
      "flatten_5 (Flatten)          (None, 64)                0         \n",
      "_________________________________________________________________\n",
      "dense_13 (Dense)             (None, 64)                4160      \n",
      "_________________________________________________________________\n",
      "dense_14 (Dense)             (None, 64)                4160      \n",
      "_________________________________________________________________\n",
      "dense_15 (Dense)             (None, 10)                650       \n",
      "=================================================================\n",
      "Total params: 175,434\n",
      "Trainable params: 175,434\n",
      "Non-trainable params: 0\n",
      "_________________________________________________________________\n"
     ]
    }
   ],
   "source": [
    "model.summary()"
   ]
  },
  {
   "cell_type": "markdown",
   "metadata": {
    "colab_type": "text",
    "id": "H8BTpFTDruzS"
   },
   "source": [
    "#### Define Loss Funcion"
   ]
  },
  {
   "cell_type": "code",
   "execution_count": 62,
   "metadata": {
    "colab": {},
    "colab_type": "code",
    "id": "JVwam629ruzT"
   },
   "outputs": [],
   "source": [
    "# defining the loss function\n",
    "loss_fn = tf.keras.losses.SparseCategoricalCrossentropy(from_logits=True)"
   ]
  },
  {
   "cell_type": "markdown",
   "metadata": {
    "colab_type": "text",
    "id": "eD2Mi8tvruzZ"
   },
   "source": [
    "### Train Model"
   ]
  },
  {
   "cell_type": "code",
   "execution_count": 63,
   "metadata": {
    "colab": {
     "base_uri": "https://localhost:8080/",
     "height": 388
    },
    "colab_type": "code",
    "id": "QAu3p4quruzZ",
    "outputId": "2fb63d99-94c0-4b08-ded1-bcda65c62f4d"
   },
   "outputs": [
    {
     "name": "stdout",
     "output_type": "stream",
     "text": [
      "Epoch 1/10\n",
      "1407/1407 [==============================] - 7s 5ms/step - loss: 0.2059 - accuracy: 0.9357 - val_loss: 0.0619 - val_accuracy: 0.9823\n",
      "Epoch 2/10\n",
      "1407/1407 [==============================] - 7s 5ms/step - loss: 0.0602 - accuracy: 0.9817 - val_loss: 0.0583 - val_accuracy: 0.9830\n",
      "Epoch 3/10\n",
      "1407/1407 [==============================] - 7s 5ms/step - loss: 0.0406 - accuracy: 0.9872 - val_loss: 0.0382 - val_accuracy: 0.9886\n",
      "Epoch 4/10\n",
      "1407/1407 [==============================] - 7s 5ms/step - loss: 0.0334 - accuracy: 0.9899 - val_loss: 0.0445 - val_accuracy: 0.9866\n",
      "Epoch 5/10\n",
      "1407/1407 [==============================] - 7s 5ms/step - loss: 0.0260 - accuracy: 0.9916 - val_loss: 0.0602 - val_accuracy: 0.9853\n",
      "Epoch 6/10\n",
      "1407/1407 [==============================] - 7s 5ms/step - loss: 0.0218 - accuracy: 0.9933 - val_loss: 0.0522 - val_accuracy: 0.9877\n",
      "Epoch 7/10\n",
      "1407/1407 [==============================] - 7s 5ms/step - loss: 0.0194 - accuracy: 0.9940 - val_loss: 0.0409 - val_accuracy: 0.9901\n",
      "Epoch 8/10\n",
      "1407/1407 [==============================] - 7s 5ms/step - loss: 0.0163 - accuracy: 0.9953 - val_loss: 0.0579 - val_accuracy: 0.9845\n",
      "Epoch 9/10\n",
      "1407/1407 [==============================] - 7s 5ms/step - loss: 0.0120 - accuracy: 0.9965 - val_loss: 0.0513 - val_accuracy: 0.9872\n",
      "Epoch 10/10\n",
      "1407/1407 [==============================] - 7s 5ms/step - loss: 0.0144 - accuracy: 0.9960 - val_loss: 0.0550 - val_accuracy: 0.9884\n"
     ]
    }
   ],
   "source": [
    "model.compile(optimizer='adam',\n",
    "              loss=loss_fn,\n",
    "              metrics=['accuracy'])\n",
    "\n",
    "history = model.fit(X_train, y_train, epochs=10, \n",
    "                    validation_data=(X_test, y_test))"
   ]
  },
  {
   "cell_type": "markdown",
   "metadata": {
    "colab_type": "text",
    "id": "O5GYaK7jruzc"
   },
   "source": [
    "### Evaluate Model"
   ]
  },
  {
   "cell_type": "code",
   "execution_count": 64,
   "metadata": {
    "colab": {
     "base_uri": "https://localhost:8080/",
     "height": 300
    },
    "colab_type": "code",
    "id": "4o6SgJenruzc",
    "outputId": "14036e66-1bcd-409c-a939-02aec37540d7"
   },
   "outputs": [
    {
     "name": "stdout",
     "output_type": "stream",
     "text": [
      "469/469 - 1s - loss: 0.0550 - accuracy: 0.9884\n"
     ]
    },
    {
     "data": {
      "image/png": "[encoded data removed]",
      "text/plain": [
       "<Figure size 432x288 with 1 Axes>"
      ]
     },
     "metadata": {
      "needs_background": "light"
     },
     "output_type": "display_data"
    }
   ],
   "source": [
    "import matplotlib.pyplot as plt \n",
    "\n",
    "plt.plot(history.history['accuracy'], label='accuracy')\n",
    "plt.plot(history.history['val_accuracy'], label = 'val_accuracy')\n",
    "plt.xlabel('Epoch')\n",
    "plt.ylabel('Accuracy')\n",
    "plt.ylim([0.9, 1])\n",
    "plt.legend(loc='lower right')\n",
    "\n",
    "test_loss, test_acc = model.evaluate(X_test,  y_test, verbose=2)"
   ]
  },
  {
   "cell_type": "code",
   "execution_count": 65,
   "metadata": {
    "colab": {},
    "colab_type": "code",
    "id": "wXoyLRZG-ZeO"
   },
   "outputs": [],
   "source": [
    "y_prob = model(X_test)\n",
    "y_hat = np.argmax(y_prob, axis=1) "
   ]
  },
  {
   "cell_type": "code",
   "execution_count": 66,
   "metadata": {
    "colab": {
     "base_uri": "https://localhost:8080/",
     "height": 308
    },
    "colab_type": "code",
    "id": "siynP8Eb-64a",
    "outputId": "f4ee89ae-ba60-44ef-81f7-9c92d20ff037"
   },
   "outputs": [
    {
     "name": "stdout",
     "output_type": "stream",
     "text": [
      "              precision    recall  f1-score   support\n",
      "\n",
      "           0       1.00      1.00      1.00      1495\n",
      "           1       0.99      1.00      0.99      1649\n",
      "           2       0.98      0.99      0.98      1471\n",
      "           3       1.00      0.97      0.99      1518\n",
      "           4       0.98      1.00      0.99      1443\n",
      "           5       0.98      0.99      0.98      1383\n",
      "           6       0.99      1.00      1.00      1482\n",
      "           7       0.98      0.99      0.99      1635\n",
      "           8       0.99      0.98      0.98      1445\n",
      "           9       0.99      0.98      0.98      1479\n",
      "\n",
      "    accuracy                           0.99     15000\n",
      "   macro avg       0.99      0.99      0.99     15000\n",
      "weighted avg       0.99      0.99      0.99     15000\n",
      "\n"
     ]
    }
   ],
   "source": [
    "from sklearn.metrics import classification_report\n",
    "print(classification_report(y_test, y_hat))"
   ]
  },
  {
   "cell_type": "code",
   "execution_count": 67,
   "metadata": {
    "colab": {},
    "colab_type": "code",
    "id": "G0pZV0rUDcy3"
   },
   "outputs": [],
   "source": [
    "i = 10\n",
    "y_pred = model(X_test[i,:,:,:].reshape(-1,28,28,1))"
   ]
  },
  {
   "cell_type": "code",
   "execution_count": 68,
   "metadata": {
    "colab": {
     "base_uri": "https://localhost:8080/",
     "height": 85
    },
    "colab_type": "code",
    "id": "ylMa6u6nDVCC",
    "outputId": "c8eb0b87-6d43-4469-8518-c71e594ea72d"
   },
   "outputs": [
    {
     "data": {
      "text/plain": [
       "<tf.Tensor: shape=(1, 10), dtype=float32, numpy=\n",
       "array([[ 0.08008557, -3.7185307 , 10.630471  , -6.5557933 , -4.682983  ,\n",
       "        -2.6542068 , -3.4902582 , -5.5401554 , -6.577204  , -7.5894456 ]],\n",
       "      dtype=float32)>"
      ]
     },
     "execution_count": 68,
     "metadata": {},
     "output_type": "execute_result"
    }
   ],
   "source": [
    "y_pred"
   ]
  },
  {
   "cell_type": "code",
   "execution_count": 69,
   "metadata": {
    "colab": {
     "base_uri": "https://localhost:8080/",
     "height": 251
    },
    "colab_type": "code",
    "id": "vnXmSz75ruzh",
    "outputId": "02570fac-46aa-4ea8-d765-abdfcafd27bb"
   },
   "outputs": [
    {
     "name": "stdout",
     "output_type": "stream",
     "text": [
      "Predicted Digit = 2\n",
      "Expected Digit = 2\n"
     ]
    },
    {
     "data": {
      "image/png": "[encoded data removed]",
      "text/plain": [
       "<PIL.Image.Image image mode=L size=200x200 at 0x19A2EE33148>"
      ]
     },
     "execution_count": 69,
     "metadata": {},
     "output_type": "execute_result"
    }
   ],
   "source": [
    "print(\"Predicted Digit =\", np.argmax(y_pred))\n",
    "print(\"Expected Digit =\", y_test[i])\n",
    "X_print = X_test*255\n",
    "img = Image.fromarray(X_print[i,:,:].reshape(IMG_SIZE, IMG_SIZE).astype('uint8'), 'L')\n",
    "img.resize((200,200))"
   ]
  },
  {
   "cell_type": "code",
   "execution_count": 70,
   "metadata": {
    "colab": {},
    "colab_type": "code",
    "id": "l27PGCYbFWMX"
   },
   "outputs": [],
   "source": [
    "exit()"
   ]
  }
 ],
 "metadata": {
  "accelerator": "GPU",
  "colab": {
   "name": "CNN - TEnsorFlow.ipynb",
   "provenance": []
  },
  "kernelspec": {
   "display_name": "Python 3",
   "language": "python",
   "name": "python3"
  },
  "language_info": {
   "codemirror_mode": {
    "name": "ipython",
    "version": 3
   },
   "file_extension": ".py",
   "mimetype": "text/x-python",
   "name": "python",
   "nbconvert_exporter": "python",
   "pygments_lexer": "ipython3",
   "version": "3.7.6"
  }
 },
 "nbformat": 4,
 "nbformat_minor": 1
}
